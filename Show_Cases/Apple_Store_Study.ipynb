{
 "cells": [
  {
   "cell_type": "markdown",
   "metadata": {},
   "source": [
    "# Apple Store Study"
   ]
  },
  {
   "cell_type": "markdown",
   "metadata": {},
   "source": [
    "## 0. Questions to answer in this study"
   ]
  },
  {
   "cell_type": "markdown",
   "metadata": {},
   "source": [
    "    1. What is the genre (sports, travel, games...) with the highest user rating? And wich one is     \n",
    "    the best app according to the users rating?\n",
    "    \n",
    "    2. How are the users profile when they rating an app?\n",
    "    \n",
    "    3. What is the probability to have an app, given its genre, a rating more or equal than 4.0?\n",
    "    \n",
    "    4. Does the popularity of an app affect the user rating?\n"
   ]
  },
  {
   "cell_type": "markdown",
   "metadata": {},
   "source": [
    "## 1. Reading the dataset file"
   ]
  },
  {
   "cell_type": "code",
   "execution_count": 5,
   "metadata": {},
   "outputs": [
    {
     "data": {
      "text/html": [
       "<div>\n",
       "<style scoped>\n",
       "    .dataframe tbody tr th:only-of-type {\n",
       "        vertical-align: middle;\n",
       "    }\n",
       "\n",
       "    .dataframe tbody tr th {\n",
       "        vertical-align: top;\n",
       "    }\n",
       "\n",
       "    .dataframe thead th {\n",
       "        text-align: right;\n",
       "    }\n",
       "</style>\n",
       "<table border=\"1\" class=\"dataframe\">\n",
       "  <thead>\n",
       "    <tr style=\"text-align: right;\">\n",
       "      <th></th>\n",
       "      <th>Unnamed: 0</th>\n",
       "      <th>id</th>\n",
       "      <th>track_name</th>\n",
       "      <th>size_bytes</th>\n",
       "      <th>currency</th>\n",
       "      <th>price</th>\n",
       "      <th>rating_count_tot</th>\n",
       "      <th>rating_count_ver</th>\n",
       "      <th>user_rating</th>\n",
       "      <th>user_rating_ver</th>\n",
       "      <th>ver</th>\n",
       "      <th>cont_rating</th>\n",
       "      <th>prime_genre</th>\n",
       "      <th>sup_devices.num</th>\n",
       "      <th>ipadSc_urls.num</th>\n",
       "      <th>lang.num</th>\n",
       "      <th>vpp_lic</th>\n",
       "    </tr>\n",
       "  </thead>\n",
       "  <tbody>\n",
       "    <tr>\n",
       "      <th>0</th>\n",
       "      <td>1</td>\n",
       "      <td>281656475</td>\n",
       "      <td>PAC-MAN Premium</td>\n",
       "      <td>100788224</td>\n",
       "      <td>USD</td>\n",
       "      <td>3.99</td>\n",
       "      <td>21292</td>\n",
       "      <td>26</td>\n",
       "      <td>4.0</td>\n",
       "      <td>4.5</td>\n",
       "      <td>6.3.5</td>\n",
       "      <td>4+</td>\n",
       "      <td>Games</td>\n",
       "      <td>38</td>\n",
       "      <td>5</td>\n",
       "      <td>10</td>\n",
       "      <td>1</td>\n",
       "    </tr>\n",
       "    <tr>\n",
       "      <th>1</th>\n",
       "      <td>2</td>\n",
       "      <td>281796108</td>\n",
       "      <td>Evernote - stay organized</td>\n",
       "      <td>158578688</td>\n",
       "      <td>USD</td>\n",
       "      <td>0.00</td>\n",
       "      <td>161065</td>\n",
       "      <td>26</td>\n",
       "      <td>4.0</td>\n",
       "      <td>3.5</td>\n",
       "      <td>8.2.2</td>\n",
       "      <td>4+</td>\n",
       "      <td>Productivity</td>\n",
       "      <td>37</td>\n",
       "      <td>5</td>\n",
       "      <td>23</td>\n",
       "      <td>1</td>\n",
       "    </tr>\n",
       "    <tr>\n",
       "      <th>2</th>\n",
       "      <td>3</td>\n",
       "      <td>281940292</td>\n",
       "      <td>WeatherBug - Local Weather, Radar, Maps, Alerts</td>\n",
       "      <td>100524032</td>\n",
       "      <td>USD</td>\n",
       "      <td>0.00</td>\n",
       "      <td>188583</td>\n",
       "      <td>2822</td>\n",
       "      <td>3.5</td>\n",
       "      <td>4.5</td>\n",
       "      <td>5.0.0</td>\n",
       "      <td>4+</td>\n",
       "      <td>Weather</td>\n",
       "      <td>37</td>\n",
       "      <td>5</td>\n",
       "      <td>3</td>\n",
       "      <td>1</td>\n",
       "    </tr>\n",
       "    <tr>\n",
       "      <th>3</th>\n",
       "      <td>4</td>\n",
       "      <td>282614216</td>\n",
       "      <td>eBay: Best App to Buy, Sell, Save! Online Shop...</td>\n",
       "      <td>128512000</td>\n",
       "      <td>USD</td>\n",
       "      <td>0.00</td>\n",
       "      <td>262241</td>\n",
       "      <td>649</td>\n",
       "      <td>4.0</td>\n",
       "      <td>4.5</td>\n",
       "      <td>5.10.0</td>\n",
       "      <td>12+</td>\n",
       "      <td>Shopping</td>\n",
       "      <td>37</td>\n",
       "      <td>5</td>\n",
       "      <td>9</td>\n",
       "      <td>1</td>\n",
       "    </tr>\n",
       "    <tr>\n",
       "      <th>4</th>\n",
       "      <td>5</td>\n",
       "      <td>282935706</td>\n",
       "      <td>Bible</td>\n",
       "      <td>92774400</td>\n",
       "      <td>USD</td>\n",
       "      <td>0.00</td>\n",
       "      <td>985920</td>\n",
       "      <td>5320</td>\n",
       "      <td>4.5</td>\n",
       "      <td>5.0</td>\n",
       "      <td>7.5.1</td>\n",
       "      <td>4+</td>\n",
       "      <td>Reference</td>\n",
       "      <td>37</td>\n",
       "      <td>5</td>\n",
       "      <td>45</td>\n",
       "      <td>1</td>\n",
       "    </tr>\n",
       "  </tbody>\n",
       "</table>\n",
       "</div>"
      ],
      "text/plain": [
       "   Unnamed: 0         id                                         track_name  \\\n",
       "0           1  281656475                                    PAC-MAN Premium   \n",
       "1           2  281796108                          Evernote - stay organized   \n",
       "2           3  281940292    WeatherBug - Local Weather, Radar, Maps, Alerts   \n",
       "3           4  282614216  eBay: Best App to Buy, Sell, Save! Online Shop...   \n",
       "4           5  282935706                                              Bible   \n",
       "\n",
       "   size_bytes currency  price  rating_count_tot  rating_count_ver  \\\n",
       "0   100788224      USD   3.99             21292                26   \n",
       "1   158578688      USD   0.00            161065                26   \n",
       "2   100524032      USD   0.00            188583              2822   \n",
       "3   128512000      USD   0.00            262241               649   \n",
       "4    92774400      USD   0.00            985920              5320   \n",
       "\n",
       "   user_rating  user_rating_ver     ver cont_rating   prime_genre  \\\n",
       "0          4.0              4.5   6.3.5          4+         Games   \n",
       "1          4.0              3.5   8.2.2          4+  Productivity   \n",
       "2          3.5              4.5   5.0.0          4+       Weather   \n",
       "3          4.0              4.5  5.10.0         12+      Shopping   \n",
       "4          4.5              5.0   7.5.1          4+     Reference   \n",
       "\n",
       "   sup_devices.num  ipadSc_urls.num  lang.num  vpp_lic  \n",
       "0               38                5        10        1  \n",
       "1               37                5        23        1  \n",
       "2               37                5         3        1  \n",
       "3               37                5         9        1  \n",
       "4               37                5        45        1  "
      ]
     },
     "execution_count": 5,
     "metadata": {},
     "output_type": "execute_result"
    }
   ],
   "source": [
    "import pandas as pd\n",
    "df = pd.read_csv(\"/home/reynaldo/Data/app_store_dataset/AppleStore.csv\")\n",
    "df.head()\n"
   ]
  },
  {
   "cell_type": "markdown",
   "metadata": {},
   "source": [
    "Above we see the first 5 rows of the dataset.\n",
    "This was downloaded from the kaggle website.\n",
    "\n",
    "Here follow the dictionary of each column:\n",
    "\n",
    "\n",
    "    \"id\" : App ID\n",
    "\n",
    "    \"track_name\": App Name\n",
    "\n",
    "    \"size_bytes\": Size (in Bytes)\n",
    "\n",
    "    \"currency\": Currency Type\n",
    "\n",
    "    \"price\": Price amount\n",
    "\n",
    "    \"ratingcounttot\": User Rating counts (for all version)\n",
    "\n",
    "    \"ratingcountver\": User Rating counts (for current version)\n",
    "\n",
    "    \"user_rating\" : Average User Rating value (for all version)\n",
    "\n",
    "    \"userratingver\": Average User Rating value (for current version)\n",
    "\n",
    "    \"ver\" : Latest version code\n",
    "\n",
    "    \"cont_rating\": Content Rating\n",
    "\n",
    "    \"prime_genre\": Primary Genre\n",
    "\n",
    "    \"sup_devices.num\": Number of supporting devices\n",
    "\n",
    "    \"ipadSc_urls.num\": Number of screenshots showed for display\n",
    "\n",
    "    \"lang.num\": Number of supported languages\n",
    "\n",
    "    \"vpp_lic\": Vpp Device Based Licensing Enabled"
   ]
  },
  {
   "cell_type": "markdown",
   "metadata": {},
   "source": [
    "## 2. Preparing the dataset"
   ]
  },
  {
   "cell_type": "markdown",
   "metadata": {},
   "source": [
    "For this study I will remove all values in the column \"user_rating_ver\". I mean, I will create another dataset (named df_rating_not_0) with rating values different(!=) than zero."
   ]
  },
  {
   "cell_type": "code",
   "execution_count": 6,
   "metadata": {},
   "outputs": [],
   "source": [
    "df_rating_not_0 = df.loc[(df['user_rating_ver'] != 0)]"
   ]
  },
  {
   "cell_type": "markdown",
   "metadata": {},
   "source": [
    "### Partially anwering the question #1"
   ]
  },
  {
   "cell_type": "markdown",
   "metadata": {},
   "source": [
    "Now, I will group the (new) dataset by genre and calculate the mean of the rating."
   ]
  },
  {
   "cell_type": "code",
   "execution_count": 7,
   "metadata": {},
   "outputs": [
    {
     "data": {
      "text/html": [
       "<div>\n",
       "<style scoped>\n",
       "    .dataframe tbody tr th:only-of-type {\n",
       "        vertical-align: middle;\n",
       "    }\n",
       "\n",
       "    .dataframe tbody tr th {\n",
       "        vertical-align: top;\n",
       "    }\n",
       "\n",
       "    .dataframe thead th {\n",
       "        text-align: right;\n",
       "    }\n",
       "</style>\n",
       "<table border=\"1\" class=\"dataframe\">\n",
       "  <thead>\n",
       "    <tr style=\"text-align: right;\">\n",
       "      <th></th>\n",
       "      <th>user_rating_ver</th>\n",
       "    </tr>\n",
       "    <tr>\n",
       "      <th>prime_genre</th>\n",
       "      <th></th>\n",
       "    </tr>\n",
       "  </thead>\n",
       "  <tbody>\n",
       "    <tr>\n",
       "      <th>Book</th>\n",
       "      <td>4.30</td>\n",
       "    </tr>\n",
       "    <tr>\n",
       "      <th>Health &amp; Fitness</th>\n",
       "      <td>4.24</td>\n",
       "    </tr>\n",
       "    <tr>\n",
       "      <th>Business</th>\n",
       "      <td>4.22</td>\n",
       "    </tr>\n",
       "    <tr>\n",
       "      <th>Catalogs</th>\n",
       "      <td>4.20</td>\n",
       "    </tr>\n",
       "    <tr>\n",
       "      <th>Games</th>\n",
       "      <td>4.19</td>\n",
       "    </tr>\n",
       "    <tr>\n",
       "      <th>Productivity</th>\n",
       "      <td>4.15</td>\n",
       "    </tr>\n",
       "    <tr>\n",
       "      <th>Music</th>\n",
       "      <td>4.14</td>\n",
       "    </tr>\n",
       "    <tr>\n",
       "      <th>Photo &amp; Video</th>\n",
       "      <td>4.14</td>\n",
       "    </tr>\n",
       "    <tr>\n",
       "      <th>Travel</th>\n",
       "      <td>4.08</td>\n",
       "    </tr>\n",
       "    <tr>\n",
       "      <th>Shopping</th>\n",
       "      <td>4.04</td>\n",
       "    </tr>\n",
       "    <tr>\n",
       "      <th>Reference</th>\n",
       "      <td>4.04</td>\n",
       "    </tr>\n",
       "    <tr>\n",
       "      <th>Weather</th>\n",
       "      <td>4.00</td>\n",
       "    </tr>\n",
       "    <tr>\n",
       "      <th>Medical</th>\n",
       "      <td>3.95</td>\n",
       "    </tr>\n",
       "    <tr>\n",
       "      <th>Education</th>\n",
       "      <td>3.95</td>\n",
       "    </tr>\n",
       "    <tr>\n",
       "      <th>Navigation</th>\n",
       "      <td>3.81</td>\n",
       "    </tr>\n",
       "    <tr>\n",
       "      <th>Food &amp; Drink</th>\n",
       "      <td>3.80</td>\n",
       "    </tr>\n",
       "    <tr>\n",
       "      <th>Social Networking</th>\n",
       "      <td>3.73</td>\n",
       "    </tr>\n",
       "    <tr>\n",
       "      <th>Finance</th>\n",
       "      <td>3.70</td>\n",
       "    </tr>\n",
       "    <tr>\n",
       "      <th>Entertainment</th>\n",
       "      <td>3.68</td>\n",
       "    </tr>\n",
       "    <tr>\n",
       "      <th>Utilities</th>\n",
       "      <td>3.62</td>\n",
       "    </tr>\n",
       "    <tr>\n",
       "      <th>News</th>\n",
       "      <td>3.61</td>\n",
       "    </tr>\n",
       "    <tr>\n",
       "      <th>Lifestyle</th>\n",
       "      <td>3.51</td>\n",
       "    </tr>\n",
       "    <tr>\n",
       "      <th>Sports</th>\n",
       "      <td>3.50</td>\n",
       "    </tr>\n",
       "  </tbody>\n",
       "</table>\n",
       "</div>"
      ],
      "text/plain": [
       "                   user_rating_ver\n",
       "prime_genre                       \n",
       "Book                          4.30\n",
       "Health & Fitness              4.24\n",
       "Business                      4.22\n",
       "Catalogs                      4.20\n",
       "Games                         4.19\n",
       "Productivity                  4.15\n",
       "Music                         4.14\n",
       "Photo & Video                 4.14\n",
       "Travel                        4.08\n",
       "Shopping                      4.04\n",
       "Reference                     4.04\n",
       "Weather                       4.00\n",
       "Medical                       3.95\n",
       "Education                     3.95\n",
       "Navigation                    3.81\n",
       "Food & Drink                  3.80\n",
       "Social Networking             3.73\n",
       "Finance                       3.70\n",
       "Entertainment                 3.68\n",
       "Utilities                     3.62\n",
       "News                          3.61\n",
       "Lifestyle                     3.51\n",
       "Sports                        3.50"
      ]
     },
     "execution_count": 7,
     "metadata": {},
     "output_type": "execute_result"
    }
   ],
   "source": [
    "genre_mean = df_rating_not_0.groupby(['prime_genre']).mean()['user_rating_ver'] \n",
    "\n",
    "genre_mean = round(genre_mean.sort_values(ascending=False),2) \n",
    "\n",
    "df_genre_mean = pd.DataFrame(genre_mean)\n",
    "df_genre_mean\n",
    "\n",
    "\n",
    "#The .sort_values(ascending=False) command is to sort the result in descending order, based in the mean value\n",
    "\n",
    "#The round(xxxx,2) command is to round the result in 2 decimal places"
   ]
  },
  {
   "cell_type": "markdown",
   "metadata": {},
   "source": [
    "### We see that Book is the genre with the best rating (4.30) while Sports is the worst genre with rating mean equals to 3.50 "
   ]
  },
  {
   "cell_type": "markdown",
   "metadata": {},
   "source": [
    "## 2.1 Going deeper"
   ]
  },
  {
   "cell_type": "markdown",
   "metadata": {},
   "source": [
    "The result above ranks apps by genre based on the average of users rating. Well, statistically speaking, that rank is not so accurate. The reason is that I only sorted the mean, just considering the absolute value of this mean. If, in fact, we want to compare the mean, we have to consider a statistical approach to get better results. "
   ]
  },
  {
   "cell_type": "markdown",
   "metadata": {},
   "source": [
    "Firstly, I'll \"organize\" the information normalizing the data.\n",
    "\n",
    "Let's take a look on how the ratings are distributed in the genre Lifestyle, for example. "
   ]
  },
  {
   "cell_type": "code",
   "execution_count": 24,
   "metadata": {},
   "outputs": [
    {
     "data": {
      "image/png": "[encoded data removed]",
      "text/plain": [
       "<Figure size 432x288 with 1 Axes>"
      ]
     },
     "metadata": {},
     "output_type": "display_data"
    }
   ],
   "source": [
    "from matplotlib import pyplot as plt\n",
    "\n",
    "df_lifestyle = df_rating_not_0.loc[(df_rating_not_0['prime_genre'] == 'Lifestyle')]\n",
    "df_lifestyle['user_rating_ver'].hist()\n",
    "plt.title('Lifestyle apps histogram')\n",
    "plt.xlabel('User rating')\n",
    "plt.ylabel('Frequency (n)')\n",
    "plt.show()"
   ]
  },
  {
   "cell_type": "markdown",
   "metadata": {},
   "source": [
    "That histogram shows how the users rating are distributed. \n",
    "\n",
    "Now, I'm going to do an interesting procedure:\n",
    "1. Choose randonly 50 users ratings from Lifestyle apps;\n",
    "2. I'll calculate the mean of this sample\n",
    "3. I'll repeat this process (steps 1 and 2) 1000 times !\n",
    "4. Then, I'll plot the histogram. Each calculation on step 2 will be a \"point\" in this histogram."
   ]
  },
  {
   "cell_type": "code",
   "execution_count": 25,
   "metadata": {},
   "outputs": [
    {
     "data": {
      "image/png": "[encoded data removed]",
      "text/plain": [
       "<Figure size 432x288 with 1 Axes>"
      ]
     },
     "metadata": {},
     "output_type": "display_data"
    }
   ],
   "source": [
    "values = []\n",
    "for i in range(1000):\n",
    "    selected_sample = df_rating_not_0.loc[(df_rating_not_0['prime_genre'] == 'Lifestyle')]['user_rating_ver'].sample(n=50, replace=True)\n",
    "    mean_sample = selected_sample.mean()\n",
    "    values += [mean_sample]\n",
    "\n",
    "plt.hist(values)\n",
    "plt.title('Lifestyle apps histogram')\n",
    "plt.xlabel('User rating')\n",
    "plt.ylabel('Frequency (n)')\n",
    "plt.show() \n"
   ]
  },
  {
   "cell_type": "markdown",
   "metadata": {},
   "source": [
    "This histogram looks different from the previous one. I have now a normal distribution. This is a distribution that, \n",
    "among other characteristics, have a bell shape. \n",
    "\n",
    "I haven't created new data, I just collected much more information \n",
    "than I had, and thanks to the \"central limit theorem\" now I have a bell shaped distribution.\n",
    "This shape format is very important to perform some statistical calculations.\n",
    "\n",
    "Now, I'm going to perform that same calculation for all other genres"
   ]
  },
  {
   "cell_type": "code",
   "execution_count": 10,
   "metadata": {},
   "outputs": [],
   "source": [
    "import numpy as np\n",
    "genres = df.prime_genre.unique()\n",
    "genre_mean = []\n",
    "\n",
    "for names in genres:\n",
    "    values = []\n",
    "    for i in range(1000):\n",
    "        selected_sample = df_rating_not_0.loc[(df_rating_not_0['prime_genre'] == names)]['user_rating_ver'].sample(n=50, replace=True)\n",
    "        mean_sample = selected_sample.mean()\n",
    "        values += [mean_sample]\n",
    "        \n",
    "    total_mean = sum(values)/len(values) \n",
    "    SD = np.std(values)\n",
    "    genre_mean += [[names,total_mean,SD]]\n",
    "    \n",
    "    "
   ]
  },
  {
   "cell_type": "markdown",
   "metadata": {},
   "source": [
    "I didn't print the information because it looks like the mean table shown in the previous session. The only difference is that now the mean is more accurate (I calculated the mean 1000 times!).On top of that, I added the standard deviation of the mean.\n",
    "\n",
    "Now, I'm going to sort the information in descending order:"
   ]
  },
  {
   "cell_type": "code",
   "execution_count": 11,
   "metadata": {},
   "outputs": [],
   "source": [
    "def getKey(item):\n",
    "    return item[1]\n",
    "genre_mean = sorted(genre_mean, key=getKey, reverse=True)"
   ]
  },
  {
   "cell_type": "markdown",
   "metadata": {},
   "source": [
    "Below, We have the most important calculation of this session (or of this study).\n",
    "\n",
    "I'll perform a hypothesis test to check if the difference between two consecutive positions is significant or not. I mean, if the difference is not significant, I would say that there is no difference between the genres, thus I'll consider that genres on the same position of the rank. Otherwise, the genres and its mean will be in different position of the rank.  \n",
    "\n",
    "Here follow a beautifull video from Kahn Academy explaining how to perform a hypotesis test that is close to the calculation that I'll show bellow: [Link here](https://www.khanacademy.org/math/statistics-probability/significance-tests-confidence-intervals-two-samples/comparing-two-means/v/hypothesis-test-for-difference-of-means)\n",
    "\n"
   ]
  },
  {
   "cell_type": "code",
   "execution_count": 12,
   "metadata": {},
   "outputs": [],
   "source": [
    "rank_num = 1\n",
    "rank = [['Book',1]]\n",
    "for i in range(1,len(genre_mean)):\n",
    "    SE = ((((genre_mean[i-1][2])**2)/1000)+(((genre_mean[i][2])**2)/1000))**0.5\n",
    "    D = SE*1.96    #I'm working with the interval of 95% of confidence\n",
    "    M = genre_mean[i-1][1]-genre_mean[i][1]\n",
    "    if M > D:\n",
    "        rank += [[genre_mean[i][0],rank_num]]\n",
    "    else:\n",
    "        rank_num = rank_num + 1\n",
    "        rank += [[genre_mean[i][0],rank_num]]"
   ]
  },
  {
   "cell_type": "markdown",
   "metadata": {},
   "source": [
    "Now, just organizing the information transforming the data into a dataframe."
   ]
  },
  {
   "cell_type": "code",
   "execution_count": 13,
   "metadata": {},
   "outputs": [
    {
     "data": {
      "text/html": [
       "<div>\n",
       "<style scoped>\n",
       "    .dataframe tbody tr th:only-of-type {\n",
       "        vertical-align: middle;\n",
       "    }\n",
       "\n",
       "    .dataframe tbody tr th {\n",
       "        vertical-align: top;\n",
       "    }\n",
       "\n",
       "    .dataframe thead th {\n",
       "        text-align: right;\n",
       "    }\n",
       "</style>\n",
       "<table border=\"1\" class=\"dataframe\">\n",
       "  <thead>\n",
       "    <tr style=\"text-align: right;\">\n",
       "      <th></th>\n",
       "      <th>Genre</th>\n",
       "      <th>Rank</th>\n",
       "    </tr>\n",
       "  </thead>\n",
       "  <tbody>\n",
       "    <tr>\n",
       "      <th>0</th>\n",
       "      <td>Book</td>\n",
       "      <td>1</td>\n",
       "    </tr>\n",
       "    <tr>\n",
       "      <th>1</th>\n",
       "      <td>Health &amp; Fitness</td>\n",
       "      <td>1</td>\n",
       "    </tr>\n",
       "    <tr>\n",
       "      <th>2</th>\n",
       "      <td>Business</td>\n",
       "      <td>1</td>\n",
       "    </tr>\n",
       "    <tr>\n",
       "      <th>3</th>\n",
       "      <td>Catalogs</td>\n",
       "      <td>1</td>\n",
       "    </tr>\n",
       "    <tr>\n",
       "      <th>4</th>\n",
       "      <td>Games</td>\n",
       "      <td>2</td>\n",
       "    </tr>\n",
       "    <tr>\n",
       "      <th>5</th>\n",
       "      <td>Productivity</td>\n",
       "      <td>2</td>\n",
       "    </tr>\n",
       "    <tr>\n",
       "      <th>6</th>\n",
       "      <td>Music</td>\n",
       "      <td>2</td>\n",
       "    </tr>\n",
       "    <tr>\n",
       "      <th>7</th>\n",
       "      <td>Photo &amp; Video</td>\n",
       "      <td>3</td>\n",
       "    </tr>\n",
       "    <tr>\n",
       "      <th>8</th>\n",
       "      <td>Travel</td>\n",
       "      <td>3</td>\n",
       "    </tr>\n",
       "    <tr>\n",
       "      <th>9</th>\n",
       "      <td>Shopping</td>\n",
       "      <td>3</td>\n",
       "    </tr>\n",
       "    <tr>\n",
       "      <th>10</th>\n",
       "      <td>Reference</td>\n",
       "      <td>4</td>\n",
       "    </tr>\n",
       "    <tr>\n",
       "      <th>11</th>\n",
       "      <td>Weather</td>\n",
       "      <td>4</td>\n",
       "    </tr>\n",
       "    <tr>\n",
       "      <th>12</th>\n",
       "      <td>Medical</td>\n",
       "      <td>4</td>\n",
       "    </tr>\n",
       "    <tr>\n",
       "      <th>13</th>\n",
       "      <td>Education</td>\n",
       "      <td>5</td>\n",
       "    </tr>\n",
       "    <tr>\n",
       "      <th>14</th>\n",
       "      <td>Navigation</td>\n",
       "      <td>5</td>\n",
       "    </tr>\n",
       "    <tr>\n",
       "      <th>15</th>\n",
       "      <td>Food &amp; Drink</td>\n",
       "      <td>6</td>\n",
       "    </tr>\n",
       "    <tr>\n",
       "      <th>16</th>\n",
       "      <td>Social Networking</td>\n",
       "      <td>6</td>\n",
       "    </tr>\n",
       "    <tr>\n",
       "      <th>17</th>\n",
       "      <td>Finance</td>\n",
       "      <td>6</td>\n",
       "    </tr>\n",
       "    <tr>\n",
       "      <th>18</th>\n",
       "      <td>Entertainment</td>\n",
       "      <td>6</td>\n",
       "    </tr>\n",
       "    <tr>\n",
       "      <th>19</th>\n",
       "      <td>Utilities</td>\n",
       "      <td>6</td>\n",
       "    </tr>\n",
       "    <tr>\n",
       "      <th>20</th>\n",
       "      <td>News</td>\n",
       "      <td>6</td>\n",
       "    </tr>\n",
       "    <tr>\n",
       "      <th>21</th>\n",
       "      <td>Lifestyle</td>\n",
       "      <td>6</td>\n",
       "    </tr>\n",
       "    <tr>\n",
       "      <th>22</th>\n",
       "      <td>Sports</td>\n",
       "      <td>7</td>\n",
       "    </tr>\n",
       "  </tbody>\n",
       "</table>\n",
       "</div>"
      ],
      "text/plain": [
       "                Genre  Rank\n",
       "0                Book     1\n",
       "1    Health & Fitness     1\n",
       "2            Business     1\n",
       "3            Catalogs     1\n",
       "4               Games     2\n",
       "5        Productivity     2\n",
       "6               Music     2\n",
       "7       Photo & Video     3\n",
       "8              Travel     3\n",
       "9            Shopping     3\n",
       "10          Reference     4\n",
       "11            Weather     4\n",
       "12            Medical     4\n",
       "13          Education     5\n",
       "14         Navigation     5\n",
       "15       Food & Drink     6\n",
       "16  Social Networking     6\n",
       "17            Finance     6\n",
       "18      Entertainment     6\n",
       "19          Utilities     6\n",
       "20               News     6\n",
       "21          Lifestyle     6\n",
       "22             Sports     7"
      ]
     },
     "execution_count": 13,
     "metadata": {},
     "output_type": "execute_result"
    }
   ],
   "source": [
    "df_rank = pd.DataFrame(rank, columns =['Genre', 'Rank'])\n",
    "df_rank"
   ]
  },
  {
   "cell_type": "markdown",
   "metadata": {},
   "source": [
    "#### The conclusion is that we cannot compare the apps just based on its mean. Let's take a look at the position #8 of the rank above. We cannot say wich app had the highest user rating: Food & Drink, Social Networking, Finance, Entertainment or Utilities. They are on the same position of the rank  (based on statistical arguments). For the same reason, We cannot decide wich app has the best rating: Book or Health & Fitness. The only thing we can say is that both are on the position #1 on the rank."
   ]
  },
  {
   "cell_type": "markdown",
   "metadata": {},
   "source": [
    "## 3. User Profile"
   ]
  },
  {
   "cell_type": "markdown",
   "metadata": {},
   "source": [
    "I'm going to analyze a histogram.   \n",
    "Let's choose lifestyle apps as an example"
   ]
  },
  {
   "cell_type": "code",
   "execution_count": 26,
   "metadata": {},
   "outputs": [
    {
     "data": {
      "image/png": "[encoded data removed]",
      "text/plain": [
       "<Figure size 432x288 with 1 Axes>"
      ]
     },
     "metadata": {},
     "output_type": "display_data"
    }
   ],
   "source": [
    "df_lifestyle = df_rating_not_0.loc[(df_rating_not_0['prime_genre'] == 'Lifestyle')]\n",
    "df_lifestyle['user_rating_ver'].hist()\n",
    "plt.title('Lifestyle apps histogram')\n",
    "plt.xlabel('User rating')\n",
    "plt.ylabel('Frequency (n)')\n",
    "plt.show()"
   ]
  },
  {
   "cell_type": "markdown",
   "metadata": {},
   "source": [
    "Let's take a look in other genre: games"
   ]
  },
  {
   "cell_type": "code",
   "execution_count": 15,
   "metadata": {},
   "outputs": [
    {
     "data": {
      "image/png": "[encoded data removed]",
      "text/plain": [
       "<Figure size 432x288 with 1 Axes>"
      ]
     },
     "metadata": {},
     "output_type": "display_data"
    }
   ],
   "source": [
    "df_games = df_rating_not_0.loc[(df_rating_not_0['prime_genre'] == 'Games')]\n",
    "df_games['user_rating_ver'].hist()\n",
    "plt.title('Games apps histogram')\n",
    "plt.xlabel('User rating')\n",
    "plt.show()"
   ]
  },
  {
   "cell_type": "markdown",
   "metadata": {},
   "source": [
    "If you would plot the histogram for all other genres you would see the same trend as you saw in the plots above: a negative skew, meaning that the peak of the distibution is concentrated on the right of the cartesian plane, not in the center like a normal distribution. To find out a little bit more about skewness click [here](https://en.wikipedia.org/wiki/Skewness).\n",
    "\n",
    "These plots (and trend) made me draw the answer for the question #2 (at the beginning of this study): "
   ]
  },
  {
   "cell_type": "markdown",
   "metadata": {},
   "source": [
    "#### When someone goes to rate an app, in general people give a good rate. People who don't like a app don't rate it a lot."
   ]
  },
  {
   "cell_type": "markdown",
   "metadata": {},
   "source": [
    "## 4. Probability of a good rating"
   ]
  },
  {
   "cell_type": "markdown",
   "metadata": {},
   "source": [
    "The chunk of code bellow calculates the probability for a specific genre to have a rating more or equal to 4.0"
   ]
  },
  {
   "cell_type": "code",
   "execution_count": 16,
   "metadata": {},
   "outputs": [
    {
     "data": {
      "text/html": [
       "<div>\n",
       "<style scoped>\n",
       "    .dataframe tbody tr th:only-of-type {\n",
       "        vertical-align: middle;\n",
       "    }\n",
       "\n",
       "    .dataframe tbody tr th {\n",
       "        vertical-align: top;\n",
       "    }\n",
       "\n",
       "    .dataframe thead th {\n",
       "        text-align: right;\n",
       "    }\n",
       "</style>\n",
       "<table border=\"1\" class=\"dataframe\">\n",
       "  <thead>\n",
       "    <tr style=\"text-align: right;\">\n",
       "      <th></th>\n",
       "      <th>Genre</th>\n",
       "      <th>Probability %</th>\n",
       "    </tr>\n",
       "  </thead>\n",
       "  <tbody>\n",
       "    <tr>\n",
       "      <th>10</th>\n",
       "      <td>Sports</td>\n",
       "      <td>53.0</td>\n",
       "    </tr>\n",
       "    <tr>\n",
       "      <th>17</th>\n",
       "      <td>Lifestyle</td>\n",
       "      <td>54.9</td>\n",
       "    </tr>\n",
       "    <tr>\n",
       "      <th>7</th>\n",
       "      <td>Utilities</td>\n",
       "      <td>55.6</td>\n",
       "    </tr>\n",
       "    <tr>\n",
       "      <th>19</th>\n",
       "      <td>News</td>\n",
       "      <td>56.5</td>\n",
       "    </tr>\n",
       "    <tr>\n",
       "      <th>13</th>\n",
       "      <td>Entertainment</td>\n",
       "      <td>57.6</td>\n",
       "    </tr>\n",
       "    <tr>\n",
       "      <th>9</th>\n",
       "      <td>Social Networking</td>\n",
       "      <td>57.7</td>\n",
       "    </tr>\n",
       "    <tr>\n",
       "      <th>22</th>\n",
       "      <td>Catalogs</td>\n",
       "      <td>60.0</td>\n",
       "    </tr>\n",
       "    <tr>\n",
       "      <th>5</th>\n",
       "      <td>Finance</td>\n",
       "      <td>60.9</td>\n",
       "    </tr>\n",
       "    <tr>\n",
       "      <th>15</th>\n",
       "      <td>Navigation</td>\n",
       "      <td>65.4</td>\n",
       "    </tr>\n",
       "    <tr>\n",
       "      <th>16</th>\n",
       "      <td>Education</td>\n",
       "      <td>66.4</td>\n",
       "    </tr>\n",
       "    <tr>\n",
       "      <th>2</th>\n",
       "      <td>Weather</td>\n",
       "      <td>67.2</td>\n",
       "    </tr>\n",
       "    <tr>\n",
       "      <th>18</th>\n",
       "      <td>Food &amp; Drink</td>\n",
       "      <td>67.5</td>\n",
       "    </tr>\n",
       "    <tr>\n",
       "      <th>21</th>\n",
       "      <td>Medical</td>\n",
       "      <td>68.4</td>\n",
       "    </tr>\n",
       "    <tr>\n",
       "      <th>6</th>\n",
       "      <td>Music</td>\n",
       "      <td>74.0</td>\n",
       "    </tr>\n",
       "    <tr>\n",
       "      <th>4</th>\n",
       "      <td>Reference</td>\n",
       "      <td>75.5</td>\n",
       "    </tr>\n",
       "    <tr>\n",
       "      <th>8</th>\n",
       "      <td>Travel</td>\n",
       "      <td>76.8</td>\n",
       "    </tr>\n",
       "    <tr>\n",
       "      <th>3</th>\n",
       "      <td>Shopping</td>\n",
       "      <td>77.2</td>\n",
       "    </tr>\n",
       "    <tr>\n",
       "      <th>14</th>\n",
       "      <td>Photo &amp; Video</td>\n",
       "      <td>79.3</td>\n",
       "    </tr>\n",
       "    <tr>\n",
       "      <th>1</th>\n",
       "      <td>Productivity</td>\n",
       "      <td>79.4</td>\n",
       "    </tr>\n",
       "    <tr>\n",
       "      <th>12</th>\n",
       "      <td>Health &amp; Fitness</td>\n",
       "      <td>81.8</td>\n",
       "    </tr>\n",
       "    <tr>\n",
       "      <th>11</th>\n",
       "      <td>Business</td>\n",
       "      <td>82.2</td>\n",
       "    </tr>\n",
       "    <tr>\n",
       "      <th>0</th>\n",
       "      <td>Games</td>\n",
       "      <td>83.4</td>\n",
       "    </tr>\n",
       "    <tr>\n",
       "      <th>20</th>\n",
       "      <td>Book</td>\n",
       "      <td>83.6</td>\n",
       "    </tr>\n",
       "  </tbody>\n",
       "</table>\n",
       "</div>"
      ],
      "text/plain": [
       "                Genre  Probability %\n",
       "10             Sports           53.0\n",
       "17          Lifestyle           54.9\n",
       "7           Utilities           55.6\n",
       "19               News           56.5\n",
       "13      Entertainment           57.6\n",
       "9   Social Networking           57.7\n",
       "22           Catalogs           60.0\n",
       "5             Finance           60.9\n",
       "15         Navigation           65.4\n",
       "16          Education           66.4\n",
       "2             Weather           67.2\n",
       "18       Food & Drink           67.5\n",
       "21            Medical           68.4\n",
       "6               Music           74.0\n",
       "4           Reference           75.5\n",
       "8              Travel           76.8\n",
       "3            Shopping           77.2\n",
       "14      Photo & Video           79.3\n",
       "1        Productivity           79.4\n",
       "12   Health & Fitness           81.8\n",
       "11           Business           82.2\n",
       "0               Games           83.4\n",
       "20               Book           83.6"
      ]
     },
     "execution_count": 16,
     "metadata": {},
     "output_type": "execute_result"
    }
   ],
   "source": [
    "genres = df.prime_genre.unique()\n",
    "probability_genres = []\n",
    "for names in genres:\n",
    "    df_selected = df_rating_not_0.loc[(df_rating_not_0['prime_genre'] == names)]['user_rating_ver']\n",
    "    probability_genres += [round((sum(df_selected[df_selected>=4].value_counts())/len(df_selected))*100,1)]\n",
    "frame = {'Genre': genres,'Probability %': probability_genres}\n",
    "df_probability = pd.DataFrame(frame)\n",
    "df_probability = df_probability.sort_values(['Probability %'],ascending=[True])\n",
    "df_probability"
   ]
  },
  {
   "cell_type": "markdown",
   "metadata": {},
   "source": [
    "### Book, Games, Business and Health & Fitness apps have more than 80% probability to have a user rating equal or more than 4.0 "
   ]
  },
  {
   "cell_type": "markdown",
   "metadata": {},
   "source": [
    "## 5. The popularity of an app"
   ]
  },
  {
   "cell_type": "markdown",
   "metadata": {},
   "source": [
    "We can assess the popularity of an app by the number of downloads. Unfortunately, the dataset from Apple Store doesn't have the number of downloads, but I'll use the information from another dataset to infer the popularity of an app in the Apple store. I'm going to use now a dataset from Play Store (apps for Androids devices). This new dataset has the number of downloads of each app."
   ]
  },
  {
   "cell_type": "markdown",
   "metadata": {},
   "source": [
    "   ## 5.1 Google Dataset"
   ]
  },
  {
   "cell_type": "code",
   "execution_count": 17,
   "metadata": {},
   "outputs": [],
   "source": [
    "df_google = pd.read_csv(\"/home/reynaldo/Data/play_store_dataset/googleplaystore.csv\")"
   ]
  },
  {
   "cell_type": "markdown",
   "metadata": {},
   "source": [
    "## 5.1.1 Cleaning the data"
   ]
  },
  {
   "cell_type": "code",
   "execution_count": 18,
   "metadata": {},
   "outputs": [
    {
     "name": "stderr",
     "output_type": "stream",
     "text": [
      "/usr/lib/python3/dist-packages/ipykernel_launcher.py:17: SettingWithCopyWarning: \n",
      "A value is trying to be set on a copy of a slice from a DataFrame.\n",
      "Try using .loc[row_indexer,col_indexer] = value instead\n",
      "\n",
      "See the caveats in the documentation: https://pandas.pydata.org/pandas-docs/stable/user_guide/indexing.html#returning-a-view-versus-a-copy\n"
     ]
    },
    {
     "data": {
      "text/html": [
       "<div>\n",
       "<style scoped>\n",
       "    .dataframe tbody tr th:only-of-type {\n",
       "        vertical-align: middle;\n",
       "    }\n",
       "\n",
       "    .dataframe tbody tr th {\n",
       "        vertical-align: top;\n",
       "    }\n",
       "\n",
       "    .dataframe thead th {\n",
       "        text-align: right;\n",
       "    }\n",
       "</style>\n",
       "<table border=\"1\" class=\"dataframe\">\n",
       "  <thead>\n",
       "    <tr style=\"text-align: right;\">\n",
       "      <th></th>\n",
       "      <th>Review_rate</th>\n",
       "    </tr>\n",
       "    <tr>\n",
       "      <th>Installs</th>\n",
       "      <th></th>\n",
       "    </tr>\n",
       "  </thead>\n",
       "  <tbody>\n",
       "    <tr>\n",
       "      <th>5000</th>\n",
       "      <td>2.17</td>\n",
       "    </tr>\n",
       "    <tr>\n",
       "      <th>10000</th>\n",
       "      <td>3.55</td>\n",
       "    </tr>\n",
       "    <tr>\n",
       "      <th>50000</th>\n",
       "      <td>2.02</td>\n",
       "    </tr>\n",
       "    <tr>\n",
       "      <th>100000</th>\n",
       "      <td>3.43</td>\n",
       "    </tr>\n",
       "    <tr>\n",
       "      <th>500000</th>\n",
       "      <td>1.96</td>\n",
       "    </tr>\n",
       "    <tr>\n",
       "      <th>1000000</th>\n",
       "      <td>3.31</td>\n",
       "    </tr>\n",
       "    <tr>\n",
       "      <th>5000000</th>\n",
       "      <td>2.06</td>\n",
       "    </tr>\n",
       "    <tr>\n",
       "      <th>10000000</th>\n",
       "      <td>3.63</td>\n",
       "    </tr>\n",
       "    <tr>\n",
       "      <th>50000000</th>\n",
       "      <td>2.46</td>\n",
       "    </tr>\n",
       "    <tr>\n",
       "      <th>100000000</th>\n",
       "      <td>4.67</td>\n",
       "    </tr>\n",
       "    <tr>\n",
       "      <th>500000000</th>\n",
       "      <td>1.99</td>\n",
       "    </tr>\n",
       "    <tr>\n",
       "      <th>1000000000</th>\n",
       "      <td>2.13</td>\n",
       "    </tr>\n",
       "  </tbody>\n",
       "</table>\n",
       "</div>"
      ],
      "text/plain": [
       "            Review_rate\n",
       "Installs               \n",
       "5000               2.17\n",
       "10000              3.55\n",
       "50000              2.02\n",
       "100000             3.43\n",
       "500000             1.96\n",
       "1000000            3.31\n",
       "5000000            2.06\n",
       "10000000           3.63\n",
       "50000000           2.46\n",
       "100000000          4.67\n",
       "500000000          1.99\n",
       "1000000000         2.13"
      ]
     },
     "execution_count": 18,
     "metadata": {},
     "output_type": "execute_result"
    }
   ],
   "source": [
    "#Droping NaN values\n",
    "df_google = df_google.dropna()\n",
    "\n",
    "#Converting reviews to numeric\n",
    "df_google['Reviews'] = pd.to_numeric(df_google['Reviews'], errors='coerce')\n",
    "\n",
    "#From 'Installs' column, I'm going to remove the '+' and convert it to numeric\n",
    "df_google['Installs'] = df_google['Installs'].str.replace('+','')\n",
    "df_google['Installs'] = df_google['Installs'].str.replace(',','')\n",
    "df_google['Installs'] = pd.to_numeric(df_google['Installs'], errors='coerce')\n",
    "\n",
    "#Selecting just the information that it is now needed for me\n",
    "df_google_select = df_google[['Category','Rating','Reviews','Installs']]\n",
    "\n",
    "#Creating a new column 'Review_rate'. It is the relationship(ratio) between the number of\n",
    "# user reviewn and the number if downloads\n",
    "df_google_select['Review_rate'] = df_google_select['Reviews']/df_google_select['Installs']\n",
    "\n",
    "\n",
    "#Finally, organizing the information by number of downloads.\n",
    "installs_bins = df_google_select.groupby(['Installs']).mean()\n",
    "installs_bins['Review_rate'] = round(installs_bins['Review_rate']*100,2)\n",
    "\n",
    "#and printing just the information for more than 5000 downloads\n",
    "df_more_5000 = installs_bins.iloc[7: ,2: ]\n",
    "df_more_5000"
   ]
  },
  {
   "cell_type": "markdown",
   "metadata": {},
   "source": [
    "The information above shows the average of the review rate grouped by installs. This rate shows that, for apps with 100000+ installs, for example, the review rate is 3.43%. It means that 1 user review is equal to 29.15 downloads(or installs). (100/3.43 = 29.15) \n",
    "Let's take a look at the plot of the table above."
   ]
  },
  {
   "cell_type": "code",
   "execution_count": 23,
   "metadata": {},
   "outputs": [
    {
     "data": {
      "image/png": "[encoded data removed]",
      "text/plain": [
       "<Figure size 432x288 with 1 Axes>"
      ]
     },
     "metadata": {},
     "output_type": "display_data"
    }
   ],
   "source": [
    "import numpy as np\n",
    "bars = (5000,10000,50000,100000,500000,1000000,5000000,10000000,50000000,100000000,500000000,1000000000)\n",
    "y_pos = np.arange(len(df_more_5000))\n",
    "plt.bar(y_pos,df_more_5000['Review_rate'])\n",
    "plt.xticks(y_pos, bars, rotation=45)\n",
    "plt.axhline(df_more_5000['Review_rate'].mean(), color='r', linestyle='-')\n",
    "plt.title('Review rate for app with more than 5000 downloads ')\n",
    "plt.xlabel('Installs')\n",
    "plt.ylabel('Review Rate (%)')\n",
    "plt.show()"
   ]
  },
  {
   "cell_type": "markdown",
   "metadata": {},
   "source": [
    "The red line (y=2.8%) shows the Review rate average. In average, the relationship between the number of installs an app has and its number of reviews is 2.8%.Conversely, 1 user review is equal to appox. 36 downloads."
   ]
  },
  {
   "cell_type": "markdown",
   "metadata": {},
   "source": [
    "#### We can conclude that the more user reviews an app has more downloads it has. Therefore, an app with 100 reviews is less popular than an app with 5000 reviews, for example."
   ]
  },
  {
   "cell_type": "markdown",
   "metadata": {},
   "source": [
    "Let's go back to the Apple store apps. Firstly, I'll multiply the number of reviews by 35.7, this number came from the calculation I performed using the Google apps dataset. I found that on average 1 user review is equal to 35.7 downloads (2.8% -> 100/2.8 or 1/0.028 = 35.7)."
   ]
  },
  {
   "cell_type": "code",
   "execution_count": 28,
   "metadata": {},
   "outputs": [
    {
     "data": {
      "text/html": [
       "<div>\n",
       "<style scoped>\n",
       "    .dataframe tbody tr th:only-of-type {\n",
       "        vertical-align: middle;\n",
       "    }\n",
       "\n",
       "    .dataframe tbody tr th {\n",
       "        vertical-align: top;\n",
       "    }\n",
       "\n",
       "    .dataframe thead th {\n",
       "        text-align: right;\n",
       "    }\n",
       "</style>\n",
       "<table border=\"1\" class=\"dataframe\">\n",
       "  <thead>\n",
       "    <tr style=\"text-align: right;\">\n",
       "      <th></th>\n",
       "      <th>user_rating_ver</th>\n",
       "    </tr>\n",
       "    <tr>\n",
       "      <th>bins</th>\n",
       "      <th></th>\n",
       "    </tr>\n",
       "  </thead>\n",
       "  <tbody>\n",
       "    <tr>\n",
       "      <th>5000+</th>\n",
       "      <td>3.806590</td>\n",
       "    </tr>\n",
       "    <tr>\n",
       "      <th>50000+</th>\n",
       "      <td>4.114437</td>\n",
       "    </tr>\n",
       "    <tr>\n",
       "      <th>100000+</th>\n",
       "      <td>4.194362</td>\n",
       "    </tr>\n",
       "    <tr>\n",
       "      <th>500000+</th>\n",
       "      <td>4.180685</td>\n",
       "    </tr>\n",
       "    <tr>\n",
       "      <th>1000000+</th>\n",
       "      <td>4.182266</td>\n",
       "    </tr>\n",
       "    <tr>\n",
       "      <th>5000000+</th>\n",
       "      <td>4.258824</td>\n",
       "    </tr>\n",
       "    <tr>\n",
       "      <th>10000000+</th>\n",
       "      <td>4.290323</td>\n",
       "    </tr>\n",
       "    <tr>\n",
       "      <th>50000000+</th>\n",
       "      <td>4.166667</td>\n",
       "    </tr>\n",
       "    <tr>\n",
       "      <th>100000000+</th>\n",
       "      <td>3.500000</td>\n",
       "    </tr>\n",
       "    <tr>\n",
       "      <th>500000000+</th>\n",
       "      <td>NaN</td>\n",
       "    </tr>\n",
       "  </tbody>\n",
       "</table>\n",
       "</div>"
      ],
      "text/plain": [
       "            user_rating_ver\n",
       "bins                       \n",
       "5000+              3.806590\n",
       "50000+             4.114437\n",
       "100000+            4.194362\n",
       "500000+            4.180685\n",
       "1000000+           4.182266\n",
       "5000000+           4.258824\n",
       "10000000+          4.290323\n",
       "50000000+          4.166667\n",
       "100000000+         3.500000\n",
       "500000000+              NaN"
      ]
     },
     "execution_count": 28,
     "metadata": {},
     "output_type": "execute_result"
    }
   ],
   "source": [
    "df_apple = df\n",
    "df_apple['Rating_Total'] = df_apple['rating_count_tot'] + df_apple['rating_count_ver']\n",
    "df_apple['Downloads_Estimate'] = 35.7 * df_apple['Rating_Total']\n",
    "\n",
    "bins = [5000,50000,100000,500000,1000000,5000000,10000000,50000000,100000000,500000000,1000000000]\n",
    "labels = ['5000+','50000+','100000+','500000+','1000000+','5000000+','10000000+','50000000+','100000000+','500000000+']\n",
    "df_apple['bins'] = pd.cut(df_apple['Downloads_Estimate'], bins=bins, labels=labels)\n",
    "installs = df_apple.groupby(['bins']).mean()['user_rating_ver']\n",
    "\n",
    "df_apple_installs = pd.DataFrame(installs)\n",
    "df_apple_installs"
   ]
  },
  {
   "cell_type": "markdown",
   "metadata": {},
   "source": [
    "The table above shows the average of the users rating for each group of downloads."
   ]
  },
  {
   "cell_type": "markdown",
   "metadata": {},
   "source": [
    "Beside, the last two bins the average doesn't differ too much from each group. We can exclude the results from the group with 100000000+ installs (mean 3.5) and the group with 500000000+ installs (mean NaN). See the information below."
   ]
  },
  {
   "cell_type": "code",
   "execution_count": 21,
   "metadata": {},
   "outputs": [
    {
     "data": {
      "text/plain": [
       "5000+         1988\n",
       "100000+       1011\n",
       "50000+         568\n",
       "1000000+       406\n",
       "500000+        321\n",
       "5000000+        85\n",
       "10000000+       62\n",
       "50000000+        3\n",
       "100000000+       1\n",
       "500000000+       0\n",
       "Name: bins, dtype: int64"
      ]
     },
     "execution_count": 21,
     "metadata": {},
     "output_type": "execute_result"
    }
   ],
   "source": [
    "df_apple['bins'].value_counts()"
   ]
  },
  {
   "cell_type": "markdown",
   "metadata": {},
   "source": [
    "This shows how many app we have in each group. We don't have significant values for the last three groups.\n",
    "Anyway,"
   ]
  },
  {
   "cell_type": "markdown",
   "metadata": {},
   "source": [
    "#### the average rating grouped by the number of download  shows that despite the popularity the average rating doesn't change. I mean, a popular app with 1000000+ downloads (mean rating equals to 4.18), for example doesn't have a rating much bigger than an app with 50000+ downloads (mean rating equals to 4.11). "
   ]
  },
  {
   "cell_type": "code",
   "execution_count": null,
   "metadata": {},
   "outputs": [],
   "source": []
  }
 ],
 "metadata": {
  "kernelspec": {
   "display_name": "Python 3",
   "language": "python",
   "name": "python3"
  },
  "language_info": {
   "codemirror_mode": {
    "name": "ipython",
    "version": 3
   },
   "file_extension": ".py",
   "mimetype": "text/x-python",
   "name": "python",
   "nbconvert_exporter": "python",
   "pygments_lexer": "ipython3",
   "version": "3.6.9"
  }
 },
 "nbformat": 4,
 "nbformat_minor": 2
}
